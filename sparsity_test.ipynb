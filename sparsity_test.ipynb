{
 "cells": [
  {
   "cell_type": "code",
   "execution_count": 2,
   "metadata": {},
   "outputs": [],
   "source": [
    "import torch\n",
    "import torch.nn as nn\n",
    "from utils.file_utils import *\n",
    "from model import Net\n",
    "from regularizers.functions import Regularizers"
   ]
  },
  {
   "cell_type": "code",
   "execution_count": 5,
   "metadata": {},
   "outputs": [],
   "source": [
    "\n",
    "def get_model():\n",
    "    folder_path = './models/10-epochs'\n",
    "\n",
    "    model = Net()\n",
    "    file_name = find_files_with_extension(folder_path,'.pt')[0]\n",
    "\n",
    "    file_path = f\"{folder_path}/{file_name}\"\n",
    "\n",
    "    model.load_state_dict(torch.load(file_path))\n",
    "\n",
    "    return model"
   ]
  },
  {
   "cell_type": "code",
   "execution_count": 6,
   "metadata": {},
   "outputs": [],
   "source": [
    "lambda_reg = .5\n",
    "regularizer_funcs = [Regularizers.none,Regularizers.l1,Regularizers.l2,Regularizers.static_l0]\n",
    "func = regularizer_funcs[1]\n",
    "\n",
    "model = get_model()"
   ]
  },
  {
   "cell_type": "code",
   "execution_count": 24,
   "metadata": {},
   "outputs": [
    {
     "name": "stdout",
     "output_type": "stream",
     "text": [
      "torch.Size([6, 3, 5, 5])\n",
      "tensor(0.2779, grad_fn=<SumBackward0>)\n"
     ]
    }
   ],
   "source": [
    "p = model.named_parameters()\n",
    "p = [p_ for type,p_ in p if type.endswith('weight')]\n",
    "print(p[0].shape)\n",
    "print(func(p[0]))"
   ]
  },
  {
   "cell_type": "code",
   "execution_count": null,
   "metadata": {},
   "outputs": [],
   "source": [
    "\n",
    "\n",
    "print(model.named_parameters())\n",
    "\n",
    "\n",
    "regularization_values = [func(params) for type, params in model.named_parameters() if type.endswith('weight')]\n",
    "\n",
    "regularization_term = lambda_reg * sum(regularization_values)\n",
    "\n",
    "print(regularization_term)\n",
    "\n",
    "\n",
    "p = [p for p in model.parameters()][0]\n",
    "\n",
    "\n",
    "print(torch.mean(p))\n",
    "print(torch.std(p))\n",
    "print(torch.min(p))\n",
    "print(torch.max(p))\n",
    "\n",
    "\n",
    "# print(a.numel())\n",
    "print(torch.sum(a < .2))\n",
    "# a = [torch.sum(p < .2).item() for p in model.parameters()[:1]]\n",
    "\n",
    "# print([torch.sum(p < .2).item() for p in model.parameters()])\n",
    "\n",
    "\n",
    "# Count the total number of parameters\n",
    "total_params = sum(p.numel() for p in model.parameters())\n",
    "print(f\"Total Parameters: {total_params}\")\n",
    "\n",
    "# Count the number of non-zero parameters\n",
    "non_zero_params = sum(p.numel() - torch.sum(p < .2).item() for p in model.parameters())\n",
    "print(f\"Non-zero Parameters: {non_zero_params}\")\n",
    "\n",
    "# Calculate sparsity\n",
    "sparsity = 1.0 - (non_zero_params / total_params)\n",
    "print(f\"Sparsity: {sparsity}\")"
   ]
  }
 ],
 "metadata": {
  "kernelspec": {
   "display_name": "Python 3",
   "language": "python",
   "name": "python3"
  },
  "language_info": {
   "codemirror_mode": {
    "name": "ipython",
    "version": 3
   },
   "file_extension": ".py",
   "mimetype": "text/x-python",
   "name": "python",
   "nbconvert_exporter": "python",
   "pygments_lexer": "ipython3",
   "version": "3.10.11"
  }
 },
 "nbformat": 4,
 "nbformat_minor": 2
}
